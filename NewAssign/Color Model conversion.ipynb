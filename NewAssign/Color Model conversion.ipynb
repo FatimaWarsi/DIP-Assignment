{
 "cells": [
  {
   "cell_type": "code",
   "execution_count": 18,
   "metadata": {
    "collapsed": false
   },
   "outputs": [
    {
     "name": "stdout",
     "output_type": "stream",
     "text": [
      "Color Model Conversion\n",
      "\n",
      "1.RGB to CYMK\n",
      "2.CYMK to RGB\n",
      "3.RGB to HSI\n",
      "4.HSI to RGB\n",
      "\n",
      "Choose the color model:\n",
      "4\n"
     ]
    }
   ],
   "source": [
    "print(\"Color Model Conversion\")\n",
    "\n",
    "print(\"\\n1.RGB to CYMK\")\n",
    "print(\"2.CYMK to RGB\")\n",
    "print(\"3.RGB to HSI\")\n",
    "print(\"4.HSI to RGB\")\n",
    "\n",
    "print(\"\\nChoose the color model:\")\n",
    "inm = input()"
   ]
  },
  {
   "cell_type": "code",
   "execution_count": 19,
   "metadata": {
    "collapsed": false
   },
   "outputs": [],
   "source": [
    "if(inm=='1'):\n",
    "    print(\"Input RGB Colors:\")\n",
    "    R = int(input(\"R= \"))\n",
    "    G = int(input(\"G= \"))\n",
    "    B = int(input(\"B= \"))\n",
    "    \n",
    "    C = 1 - (R/255)\n",
    "    Y = 1 - (G/255)\n",
    "    M = 1 - (B/255)\n",
    "    K = 1 - max(R,G,B)\n",
    "   #C = (1-R-K) / (1-K) *100\n",
    "   #M = (1-G-K) / (1-K) *100\n",
    "   # Y = (1-B-K) / (1-K) *100\n",
    "   # K = K*100\n",
    "    print(\"C = \",C)\n",
    "    print(\"M = \",M)\n",
    "    print(\"Y = \",Y)\n",
    "    print(\"K= \",K)\n",
    "    "
   ]
  },
  {
   "cell_type": "code",
   "execution_count": 20,
   "metadata": {
    "collapsed": false
   },
   "outputs": [],
   "source": [
    "if(inm=='2'):\n",
    "    print(\"Input CYMK Colors:\")\n",
    "    C = int(input(\"C= \"))\n",
    "    Y = int(input(\"Y= \"))\n",
    "    M = int(input(\"M= \"))\n",
    "    K = int(input(\"K= \"))\n",
    "    \n",
    "    R = 255 * (1-C) * (1-K)\n",
    "    G = 255 * (1-M) * (1-K)\n",
    "    B = 255 * (1-Y) * (1-K)\n",
    "    \n",
    "    print(\"R = \",R)\n",
    "    print(\"G = \",G)\n",
    "    print(\"B = \",B)\n",
    "    \n"
   ]
  },
  {
   "cell_type": "code",
   "execution_count": 21,
   "metadata": {
    "collapsed": false
   },
   "outputs": [],
   "source": [
    "import math\n",
    "if(inm==\"3\"):\n",
    "    print(\"Input RGB Colors:\")\n",
    "    R = int(input(\"R= \"))\n",
    "    G = int(input(\"G= \"))\n",
    "    B = int(input(\"B= \"))\n",
    "    \n",
    "    Thita = math.acos(0.5*((R-G)+(R-B))/(((R-G)**2)+(R-B)*(G-B))**0.5)\n",
    "    S= (1-3/(R+G+B))*min(R,G,B)\n",
    "    I = 1/3 * (R+G+B)\n",
    "    if(B<=G):\n",
    "        print(\"H = \",Thita)\n",
    "    \n",
    "    else:\n",
    "        H = 360 - Thita\n",
    "        print(\"H = \",H)\n",
    "    \n",
    "    print(\"S = \",S)\n",
    "    print(\"I = \",I)\n",
    "    \n"
   ]
  },
  {
   "cell_type": "code",
   "execution_count": 26,
   "metadata": {
    "collapsed": false
   },
   "outputs": [
    {
     "name": "stdout",
     "output_type": "stream",
     "text": [
      "Input RGB Colors:\n",
      "H= 32\n",
      "S= 234\n",
      "I= 33\n",
      "R =  -6659.118773908289\n",
      "G =  14349.118773908289\n",
      "B =  -7689\n"
     ]
    }
   ],
   "source": [
    "import math\n",
    "if(inm==\"4\"):\n",
    "    print(\"Input RGB Colors:\")\n",
    "    H = int(input(\"H= \"))\n",
    "    S = int(input(\"S= \"))\n",
    "    I = int(input(\"I= \"))\n",
    "    \n",
    "    if(H>=0 and H<120):\n",
    "        R = I*(1+((S*math.cos(H))/math.cos(60-H)))\n",
    "        B = I*(1-S)\n",
    "        G = 1 - (R+B)\n",
    "    elif(H>=120 and H < 240):\n",
    "        H = H - 120\n",
    "        R = I*(1-S)\n",
    "        G = I *(1+(S*math.cos(H))/math.cos(60-H))\n",
    "        B = 1 - (R+G)\n",
    "    elif(H>=240 and H<360):\n",
    "        H = H - 240\n",
    "        G = I * (1-S)\n",
    "        B = I * (1 -((S*math.cos(H))/math.cos(60-H)))\n",
    "        R = 1 - (G+B)\n",
    "    else:\n",
    "        print(\"Wrong inputs\")\n",
    " \n",
    "    print(\"R = \",R)\n",
    "    print(\"G = \",G)\n",
    "    print(\"B = \",B)"
   ]
  },
  {
   "cell_type": "code",
   "execution_count": null,
   "metadata": {
    "collapsed": true
   },
   "outputs": [],
   "source": []
  }
 ],
 "metadata": {
  "anaconda-cloud": {},
  "kernelspec": {
   "display_name": "Python [Root]",
   "language": "python",
   "name": "Python [Root]"
  },
  "language_info": {
   "codemirror_mode": {
    "name": "ipython",
    "version": 3
   },
   "file_extension": ".py",
   "mimetype": "text/x-python",
   "name": "python",
   "nbconvert_exporter": "python",
   "pygments_lexer": "ipython3",
   "version": "3.5.2"
  }
 },
 "nbformat": 4,
 "nbformat_minor": 0
}
