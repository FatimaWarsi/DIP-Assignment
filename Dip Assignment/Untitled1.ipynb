{
 "cells": [
  {
   "cell_type": "code",
   "execution_count": 1,
   "metadata": {
    "collapsed": false
   },
   "outputs": [
    {
     "ename": "ImportError",
     "evalue": "DLL load failed: The specified module could not be found.",
     "output_type": "error",
     "traceback": [
      "\u001b[1;31m---------------------------------------------------------------------------\u001b[0m",
      "\u001b[1;31mImportError\u001b[0m                               Traceback (most recent call last)",
      "\u001b[1;32m<ipython-input-1-228f2cdafad1>\u001b[0m in \u001b[0;36m<module>\u001b[1;34m()\u001b[0m\n\u001b[0;32m      1\u001b[0m \u001b[1;32mimport\u001b[0m \u001b[0mnumpy\u001b[0m \u001b[1;32mas\u001b[0m \u001b[0mnp\u001b[0m\u001b[1;33m\u001b[0m\u001b[0m\n\u001b[1;32m----> 2\u001b[1;33m \u001b[1;32mimport\u001b[0m \u001b[0mcv2\u001b[0m\u001b[1;33m\u001b[0m\u001b[0m\n\u001b[0m\u001b[0;32m      3\u001b[0m \u001b[1;33m\u001b[0m\u001b[0m\n\u001b[0;32m      4\u001b[0m \u001b[1;31m# Load an color image in grayscale\u001b[0m\u001b[1;33m\u001b[0m\u001b[1;33m\u001b[0m\u001b[0m\n\u001b[0;32m      5\u001b[0m \u001b[0mimg\u001b[0m \u001b[1;33m=\u001b[0m \u001b[0mcv2\u001b[0m\u001b[1;33m.\u001b[0m\u001b[0mimread\u001b[0m\u001b[1;33m(\u001b[0m\u001b[1;34m'lena.png'\u001b[0m\u001b[1;33m)\u001b[0m\u001b[1;33m\u001b[0m\u001b[0m\n",
      "\u001b[1;32mC:\\Users\\Hp\\AppData\\Local\\Continuum\\Anaconda3\\lib\\site-packages\\cv2\\__init__.py\u001b[0m in \u001b[0;36m<module>\u001b[1;34m()\u001b[0m\n\u001b[0;32m      2\u001b[0m \u001b[1;32mimport\u001b[0m \u001b[0mos\u001b[0m\u001b[1;33m\u001b[0m\u001b[0m\n\u001b[0;32m      3\u001b[0m \u001b[1;33m\u001b[0m\u001b[0m\n\u001b[1;32m----> 4\u001b[1;33m \u001b[1;32mfrom\u001b[0m \u001b[1;33m.\u001b[0m\u001b[0mcv2\u001b[0m \u001b[1;32mimport\u001b[0m \u001b[1;33m*\u001b[0m\u001b[1;33m\u001b[0m\u001b[0m\n\u001b[0m\u001b[0;32m      5\u001b[0m \u001b[1;32mfrom\u001b[0m \u001b[1;33m.\u001b[0m\u001b[0mdata\u001b[0m \u001b[1;32mimport\u001b[0m \u001b[1;33m*\u001b[0m\u001b[1;33m\u001b[0m\u001b[0m\n\u001b[0;32m      6\u001b[0m \u001b[1;33m\u001b[0m\u001b[0m\n",
      "\u001b[1;31mImportError\u001b[0m: DLL load failed: The specified module could not be found."
     ]
    }
   ],
   "source": [
    "import numpy as np\n",
    "import cv2\n",
    "\n",
    "# Load an color image in grayscale\n",
    "img = cv2.imread('lena.png')\n",
    "cv2.imshow('image',img)\n",
    "cv2.waitKey(0)\n",
    "cv2.destroyAllWindows()"
   ]
  },
  {
   "cell_type": "code",
   "execution_count": 11,
   "metadata": {
    "collapsed": false
   },
   "outputs": [],
   "source": [
    "from PIL import Image, ImageFilter\n",
    "\n",
    "original = Image.open(\"lena.png\")\n",
    "blurred  = original.filter(ImageFilter.BLUR)\n",
    "\n",
    "blurred.show()"
   ]
  },
  {
   "cell_type": "code",
   "execution_count": 13,
   "metadata": {
    "collapsed": false
   },
   "outputs": [],
   "source": [
    "from PIL import Image, ImageFilter\n",
    "\n",
    "original = Image.open(\"lena.png\")\n",
    "Contour  = original.filter(ImageFilter.CONTOUR)\n",
    "\n",
    "Contour.show()"
   ]
  },
  {
   "cell_type": "code",
   "execution_count": 14,
   "metadata": {
    "collapsed": true
   },
   "outputs": [],
   "source": [
    "from PIL import Image, ImageFilter\n",
    "\n",
    "original = Image.open(\"lena.png\")\n",
    "detail= original.filter(ImageFilter.DETAIL)\n",
    "\n",
    "detail.show()"
   ]
  },
  {
   "cell_type": "code",
   "execution_count": 17,
   "metadata": {
    "collapsed": true
   },
   "outputs": [],
   "source": [
    "from PIL import Image, ImageFilter\n",
    "\n",
    "original = Image.open(\"lena.png\")\n",
    "edgeEnhance = original.filter(ImageFilter.EDGE_ENHANCE)\n",
    "\n",
    "edgeEnhance.show()"
   ]
  },
  {
   "cell_type": "code",
   "execution_count": 19,
   "metadata": {
    "collapsed": true
   },
   "outputs": [],
   "source": [
    "from PIL import Image, ImageFilter\n",
    "\n",
    "original = Image.open(\"lena.png\")\n",
    "edgeEnhanceMore = original.filter(ImageFilter.EDGE_ENHANCE_MORE)\n",
    "\n",
    "edgeEnhanceMore.show()"
   ]
  },
  {
   "cell_type": "code",
   "execution_count": 21,
   "metadata": {
    "collapsed": false
   },
   "outputs": [],
   "source": [
    "from PIL import Image, ImageFilter\n",
    "\n",
    "original = Image.open(\"lena.png\")\n",
    "emboses = original.filter(ImageFilter.EMBOSS)\n",
    "\n",
    "emboses.show()"
   ]
  },
  {
   "cell_type": "code",
   "execution_count": 22,
   "metadata": {
    "collapsed": true
   },
   "outputs": [],
   "source": [
    "from PIL import Image, ImageFilter\n",
    "\n",
    "original = Image.open(\"lena.png\")\n",
    "findEdges = original.filter(ImageFilter.FIND_EDGES)\n",
    "\n",
    "findEdges.show()"
   ]
  },
  {
   "cell_type": "code",
   "execution_count": 23,
   "metadata": {
    "collapsed": true
   },
   "outputs": [],
   "source": [
    "from PIL import Image, ImageFilter\n",
    "\n",
    "original = Image.open(\"lena.png\")\n",
    "smooth = original.filter(ImageFilter.SMOOTH)\n",
    "\n",
    "smooth.show()"
   ]
  },
  {
   "cell_type": "code",
   "execution_count": 26,
   "metadata": {
    "collapsed": false
   },
   "outputs": [],
   "source": [
    "from PIL import Image, ImageFilter\n",
    "\n",
    "original = Image.open(\"lena.png\")\n",
    "smoothMore = original.filter(ImageFilter.SMOOTH_MORE)\n",
    "\n",
    "smoothMore.show()"
   ]
  },
  {
   "cell_type": "code",
   "execution_count": 35,
   "metadata": {
    "collapsed": true
   },
   "outputs": [],
   "source": [
    "from PIL import Image, ImageFilter\n",
    "\n",
    "original = Image.open(\"lena.png\")\n",
    "sharpen = original.filter(ImageFilter.SHARPEN)\n",
    "\n",
    "sharpen.show()"
   ]
  },
  {
   "cell_type": "code",
   "execution_count": 34,
   "metadata": {
    "collapsed": false
   },
   "outputs": [],
   "source": [
    "#LOW PASS FILTER \n",
    "import cv2\n",
    "import matplotlib.pyplot as plt\n",
    "\n",
    "\n",
    "def main():\n",
    "    \n",
    "    imgpath =   \"lena.png\"\n",
    "    img = cv2.imread(imgpath, 1)\n",
    "    img = cv2.cvtColor(img, cv2.COLOR_BGR2RGB)\n",
    "\n",
    "    \n",
    "    box = cv2.boxFilter(img, -1, (53, 53))\n",
    "    \n",
    "    blur = cv2.blur(img, (13, 13))\n",
    "    \n",
    "    gaussian = cv2.GaussianBlur(img, (37, 37), 0)\n",
    "    \n",
    "    titles = ['Original Image', 'Box Filter', \n",
    "              'Blur', 'Gaussian Blur']\n",
    "\n",
    "    outputs = [img, box, blur, gaussian]\n",
    "    \n",
    "    \n",
    "    for i in range(4):\n",
    "        plt.subplot(2, 2, i+1)\n",
    "        plt.imshow(outputs[i])\n",
    "        plt.title(titles[i])\n",
    "        plt.xticks([])\n",
    "        plt.yticks([])\n",
    "    plt.show()\n",
    "\n",
    "if __name__ == \"__main__\":\n",
    "    main()"
   ]
  },
  {
   "cell_type": "code",
   "execution_count": 9,
   "metadata": {
    "collapsed": false
   },
   "outputs": [],
   "source": [
    "#From Here High Filter Laplacian\n",
    "import cv2\n",
    "import matplotlib.pyplot as plt\n",
    "\n",
    "def main():\n",
    "    imgpath = \"lena.png\"\n",
    "    img = cv2.imread(imgpath, 1)\n",
    "    img = cv2.cvtColor(img, cv2.COLOR_BGR2RGB)\n",
    "\n",
    "    edges = cv2.Laplacian(img, -1, ksize=29, scale=1, delta=0, \n",
    "                          borderType=cv2.BORDER_DEFAULT)\n",
    "\n",
    "    output = [img, edges]\n",
    "    titles = ['Original', 'Edges']\n",
    "    \n",
    "    for i in range(2):\n",
    "        plt.subplot(1, 2, i+1)\n",
    "        plt.imshow(output[i], cmap = 'gray')\n",
    "        plt.title(titles[i])\n",
    "        plt.xticks([])\n",
    "        plt.yticks([])\n",
    "    plt.show()\n",
    "\n",
    "if __name__ == \"__main__\":\n",
    "    main()\n"
   ]
  },
  {
   "cell_type": "code",
   "execution_count": 11,
   "metadata": {
    "collapsed": false
   },
   "outputs": [],
   "source": [
    "import cv2\n",
    "import matplotlib.pyplot as plt\n",
    "\n",
    "def main():\n",
    "    \n",
    "    imgpath =  \"lena.png\"\n",
    "    img = cv2.imread(imgpath, 1)\n",
    "    img = cv2.cvtColor(img, cv2.COLOR_BGR2RGB)\n",
    "\n",
    "    edgesx = cv2.Sobel(img, -1, dx=3, dy=0, ksize=11, scale=1,\n",
    "                       delta=0, borderType=cv2.BORDER_DEFAULT)\n",
    "    \n",
    "    edgesy = cv2.Sobel(img, -1, dx=0, dy=3, ksize=11, scale=1,\n",
    "                       delta=0, borderType=cv2.BORDER_DEFAULT)\n",
    "    \n",
    "    edges = edgesx + edgesy\n",
    "\n",
    "    output = [img, edgesx, edgesy, edges]\n",
    "    titles = ['Original', 'dx=1 dy=0', 'dx=0 dy=1', 'Edges']\n",
    "    \n",
    "    for i in range(4):\n",
    "        plt.subplot(2, 2, i+1)\n",
    "        plt.imshow(output[i], cmap = 'gray')\n",
    "        plt.title(titles[i])\n",
    "        plt.xticks([])\n",
    "        plt.yticks([])\n",
    "    plt.show()\n",
    "\n",
    "if __name__ == \"__main__\":\n",
    "    main()"
   ]
  },
  {
   "cell_type": "code",
   "execution_count": 12,
   "metadata": {
    "collapsed": false
   },
   "outputs": [],
   "source": [
    "\n",
    "import cv2\n",
    "import matplotlib.pyplot as plt\n",
    "\n",
    "def main():\n",
    "    \n",
    "    imgpath =  \"lena.png\"\n",
    "    img = cv2.imread(imgpath, 1)\n",
    "    img = cv2.cvtColor(img, cv2.COLOR_BGR2RGB)\n",
    "\n",
    "    edgesx = cv2.Scharr(img, -1, dx=1, dy=0, scale=1,\n",
    "                       delta=0, borderType=cv2.BORDER_DEFAULT)\n",
    "    \n",
    "    edgesy = cv2.Scharr(img, -1, dx=0, dy=1, scale=1,\n",
    "                       delta=0, borderType=cv2.BORDER_DEFAULT)\n",
    "    \n",
    "    edges = edgesx + edgesy\n",
    "\n",
    "    output = [img, edgesx, edgesy, edges]\n",
    "    titles = ['Original', 'dx=1 dy=0', 'dx=0 dy=1', 'Edges']\n",
    "    \n",
    "    for i in range(4):\n",
    "        plt.subplot(2, 2, i+1)\n",
    "        plt.imshow(output[i], cmap = 'gray')\n",
    "        plt.title(titles[i])\n",
    "        plt.xticks([])\n",
    "        plt.yticks([])\n",
    "    plt.show()\n",
    "\n",
    "if __name__ == \"__main__\":\n",
    "    main()"
   ]
  },
  {
   "cell_type": "code",
   "execution_count": 8,
   "metadata": {
    "collapsed": true
   },
   "outputs": [],
   "source": []
  }
 ],
 "metadata": {
  "kernelspec": {
   "display_name": "Python [Root]",
   "language": "python",
   "name": "Python [Root]"
  },
  "language_info": {
   "codemirror_mode": {
    "name": "ipython",
    "version": 3
   },
   "file_extension": ".py",
   "mimetype": "text/x-python",
   "name": "python",
   "nbconvert_exporter": "python",
   "pygments_lexer": "ipython3",
   "version": "3.5.2"
  }
 },
 "nbformat": 4,
 "nbformat_minor": 0
}
